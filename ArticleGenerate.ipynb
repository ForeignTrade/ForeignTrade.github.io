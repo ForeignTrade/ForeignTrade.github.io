{
 "cells": [
  {
   "cell_type": "code",
   "execution_count": 6,
   "metadata": {},
   "outputs": [],
   "source": [
    "def generate_code(input_file, output_file):\n",
    "    with open(input_file, 'r', encoding='utf-8') as infile, open(output_file, 'w', encoding='utf-8') as outfile:\n",
    "        for line in infile:\n",
    "            line = line.strip()\n",
    "            if line.startswith('#'):\n",
    "                tag = line[1:].strip()\n",
    "                outfile.write(f'<Typography paragraph variant=\"h5\">\\n  {tag}\\n</Typography>\\n')\n",
    "            elif line:\n",
    "                outfile.write(f'<Typography paragraph sx={{{{ textIndent: \\'2em\\' }}}}>{line}</Typography>\\n')\n",
    "\n",
    "if __name__ == '__main__':\n",
    "    input_file = 'test.txt'\n",
    "    output_file = 'output.txt'\n",
    "    generate_code(input_file, output_file)\n"
   ]
  }
 ],
 "metadata": {
  "kernelspec": {
   "display_name": "Python 3",
   "language": "python",
   "name": "python3"
  },
  "language_info": {
   "codemirror_mode": {
    "name": "ipython",
    "version": 3
   },
   "file_extension": ".py",
   "mimetype": "text/x-python",
   "name": "python",
   "nbconvert_exporter": "python",
   "pygments_lexer": "ipython3",
   "version": "3.11.8"
  }
 },
 "nbformat": 4,
 "nbformat_minor": 2
}
